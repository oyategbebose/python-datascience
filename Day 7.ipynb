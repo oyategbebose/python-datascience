{
 "cells": [
  {
   "cell_type": "code",
   "execution_count": 1,
   "metadata": {},
   "outputs": [],
   "source": [
    "def score_check(FirstName, SecondName):   #define function\n",
    "    score1 = int(input('Enter your score: ')) #Defining a function with multiple paremeters or arguments\n",
    "    score2 = int(input('Enter your score: '))\n",
    "    score3 = int(input('Enter your score: '))\n",
    "    score4 = int(input('Enter your score: '))\n",
    "    score5 = int(input('Enter your score: '))\n",
    "    total_score = (score1 + score2 + score3 + score4 + score5) /5\n",
    "    return f'Hello {FirstName} {SecondName} your total score in five subject is {total_score}'"
   ]
  },
  {
   "cell_type": "code",
   "execution_count": 2,
   "metadata": {},
   "outputs": [
    {
     "name": "stdout",
     "output_type": "stream",
     "text": [
      "Enter your score: 45\n",
      "Enter your score: 67\n",
      "Enter your score: 80\n",
      "Enter your score: 90\n",
      "Enter your score: 78\n"
     ]
    },
    {
     "data": {
      "text/plain": [
       "'Hello Simeon-paul Taiwo your total score in five subject is 72.0'"
      ]
     },
     "execution_count": 2,
     "metadata": {},
     "output_type": "execute_result"
    }
   ],
   "source": [
    "score_check('Simeon-paul', 'Taiwo' )\n",
    "\n"
   ]
  },
  {
   "cell_type": "code",
   "execution_count": 3,
   "metadata": {},
   "outputs": [
    {
     "name": "stdout",
     "output_type": "stream",
     "text": [
      "Enter any number5\n",
      "5 is an odd number\n"
     ]
    }
   ],
   "source": [
    "def check_even_odd(number):\n",
    "    if (number % 2 == 0):\n",
    "        print(f'{number} is an even number')\n",
    "    elif (number % 2 == 1):\n",
    "              print(f'{number} is an odd number')\n",
    "    else:\n",
    "        print('invalid input')\n",
    "check_even_odd(int(input('Enter any number')))"
   ]
  },
  {
   "cell_type": "code",
   "execution_count": 4,
   "metadata": {},
   "outputs": [],
   "source": [
    "def person(name, age = 17):\n",
    "    if age <18:\n",
    "        return 'You are not eligible to vote'\n",
    "    else:\n",
    "        return 'You are eligible to vote'"
   ]
  },
  {
   "cell_type": "code",
   "execution_count": 5,
   "metadata": {},
   "outputs": [
    {
     "data": {
      "text/plain": [
       "'You are not eligible to vote'"
      ]
     },
     "execution_count": 5,
     "metadata": {},
     "output_type": "execute_result"
    }
   ],
   "source": [
    "person('frank')"
   ]
  },
  {
   "cell_type": "code",
   "execution_count": 6,
   "metadata": {},
   "outputs": [],
   "source": [
    "def person(FirstName,SurName,age):\n",
    "    return f'my name is {SurName} {FirstName} and i am {age} years old'"
   ]
  },
  {
   "cell_type": "code",
   "execution_count": 7,
   "metadata": {},
   "outputs": [
    {
     "data": {
      "text/plain": [
       "'my name is Joy-John Meme and i am 19 years old'"
      ]
     },
     "execution_count": 7,
     "metadata": {},
     "output_type": "execute_result"
    }
   ],
   "source": [
    "person(SurName = 'Joy-John', FirstName = 'Meme', age = 19)"
   ]
  },
  {
   "cell_type": "code",
   "execution_count": 8,
   "metadata": {},
   "outputs": [],
   "source": [
    "#write a function for checking the speed of drivers\n",
    "#if the speed is less than or equal to 70 it should print ok\n",
    "#otherwise for every limit(70), print the total number of demerit (speed - 70) //5\n",
    "#if the driver gets more than 12 points, the function should print licence suspended"
   ]
  },
  {
   "cell_type": "code",
   "execution_count": 9,
   "metadata": {},
   "outputs": [],
   "source": [
    "def check_speed(speedlimit):\n",
    "    if speedlimit < 70:\n",
    "        return 'Okay'\n",
    "    elif ((speedlimit - 70) //5) <=12:\n",
    "        return ' warning speedlimit exceeded'\n",
    "    else:\n",
    "        return 'Your licence has been suspended'\n",
    "        "
   ]
  },
  {
   "cell_type": "code",
   "execution_count": 10,
   "metadata": {},
   "outputs": [
    {
     "data": {
      "text/plain": [
       "' warning speedlimit exceeded'"
      ]
     },
     "execution_count": 10,
     "metadata": {},
     "output_type": "execute_result"
    }
   ],
   "source": [
    "check_speed(70)"
   ]
  },
  {
   "cell_type": "code",
   "execution_count": 11,
   "metadata": {},
   "outputs": [],
   "source": [
    "def check_speed(speedlimit):\n",
    "    if speedlimit < 70:\n",
    "        return 'Your speedlimit is Okay'\n",
    "    elif ((speedlimit - 70) //5) <=12:\n",
    "        return ' warning speedlimit exceeded'\n",
    "    else:\n",
    "        return 'Your licence has been suspended'\n",
    "        "
   ]
  },
  {
   "cell_type": "code",
   "execution_count": 12,
   "metadata": {},
   "outputs": [
    {
     "data": {
      "text/plain": [
       "'Your speedlimit is Okay'"
      ]
     },
     "execution_count": 12,
     "metadata": {},
     "output_type": "execute_result"
    }
   ],
   "source": [
    "check_speed(40)"
   ]
  },
  {
   "cell_type": "code",
   "execution_count": 13,
   "metadata": {},
   "outputs": [],
   "source": [
    "def check_speed(speedlimit):\n",
    "    if speedlimit < 70:\n",
    "        return 'Okay'\n",
    "    elif ((speedlimit - 70) //5) <=12:\n",
    "        return ' warning speedlimit exceeded'\n",
    "    else:\n",
    "        return 'Your licence has been suspended'\n",
    "        "
   ]
  },
  {
   "cell_type": "code",
   "execution_count": 14,
   "metadata": {},
   "outputs": [
    {
     "data": {
      "text/plain": [
       "'Your licence has been suspended'"
      ]
     },
     "execution_count": 14,
     "metadata": {},
     "output_type": "execute_result"
    }
   ],
   "source": [
    "check_speed(200)"
   ]
  },
  {
   "cell_type": "code",
   "execution_count": 1,
   "metadata": {},
   "outputs": [],
   "source": [
    "def greet(name):\n",
    "    print(f'Hello {name} Welcome to Python class') \n"
   ]
  },
  {
   "cell_type": "code",
   "execution_count": 2,
   "metadata": {},
   "outputs": [
    {
     "name": "stdout",
     "output_type": "stream",
     "text": [
      "Hello Michael Welcome to Python class\n"
     ]
    }
   ],
   "source": [
    "greet('Michael')"
   ]
  },
  {
   "cell_type": "code",
   "execution_count": 19,
   "metadata": {},
   "outputs": [],
   "source": [
    "def greet(name):\n",
    "    print(f'Hello {name} Welcome to Python class')"
   ]
  },
  {
   "cell_type": "code",
   "execution_count": 21,
   "metadata": {},
   "outputs": [
    {
     "name": "stdout",
     "output_type": "stream",
     "text": [
      "Hello Mercy Welcome to Python class\n"
     ]
    }
   ],
   "source": [
    "greet('Mercy')\n",
    "    "
   ]
  },
  {
   "cell_type": "code",
   "execution_count": 22,
   "metadata": {},
   "outputs": [],
   "source": [
    "def send_message(guest):\n",
    "    return f'Hi {guest} i am inviting you to my birthday party'"
   ]
  },
  {
   "cell_type": "code",
   "execution_count": 23,
   "metadata": {},
   "outputs": [
    {
     "name": "stdout",
     "output_type": "stream",
     "text": [
      "Hi joy i am inviting you to my birthday party\n",
      "Hi peace i am inviting you to my birthday party\n",
      "Hi shola i am inviting you to my birthday party\n",
      "Hi bose i am inviting you to my birthday party\n",
      "Hi sam i am inviting you to my birthday party\n",
      "Hi alfred i am inviting you to my birthday party\n",
      "Hi mike i am inviting you to my birthday party\n"
     ]
    }
   ],
   "source": [
    "print(send_message('joy'))\n",
    "print(send_message('peace'))\n",
    "print(send_message('shola'))\n",
    "print(send_message('bose'))\n",
    "print(send_message('sam'))\n",
    "print(send_message('alfred'))\n",
    "print(send_message('mike'))"
   ]
  },
  {
   "cell_type": "code",
   "execution_count": null,
   "metadata": {},
   "outputs": [],
   "source": []
  }
 ],
 "metadata": {
  "kernelspec": {
   "display_name": "Python 3",
   "language": "python",
   "name": "python3"
  },
  "language_info": {
   "codemirror_mode": {
    "name": "ipython",
    "version": 3
   },
   "file_extension": ".py",
   "mimetype": "text/x-python",
   "name": "python",
   "nbconvert_exporter": "python",
   "pygments_lexer": "ipython3",
   "version": "3.8.3"
  }
 },
 "nbformat": 4,
 "nbformat_minor": 4
}
